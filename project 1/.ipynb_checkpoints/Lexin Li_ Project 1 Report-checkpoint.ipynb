{
 "cells": [
  {
   "cell_type": "markdown",
   "metadata": {},
   "source": [
    "# ECON628-01 \n",
    "### Project 1 report\n",
    "Lexin Li"
   ]
  },
  {
   "cell_type": "markdown",
   "metadata": {},
   "source": [
    "#### 1  Five Interesting Things About the Data set"
   ]
  },
  {
   "cell_type": "markdown",
   "metadata": {},
   "source": [
    "    I was given the data set of the civillians killed under drone attacks, it took quite a while to figure out what happend. It is not a huge set, so I can directly observe the date sheet, which saved me some time. But there were not too many variables available for me to play with, as well. Cleaning the data set was pretty hard, there are many 'NaN's to drop, also it is not 'balanced' at all.\n",
    "    There are only two type of numeric variables: 'number of victim people' and 'time'. So it is super eazy to build binary graphs, and next are what I found interesting:"
   ]
  },
  {
   "cell_type": "markdown",
   "metadata": {},
   "source": [
    "        1.Drone attack with a certain 'Target' is more likely to give rise to cause civilian casualties, in the mean of civillians killed under attack by different target, attack took al-Badr, Taliban and al-Qaeda as target seems more dagerous to civillians.\n",
    "        2.Even though we had a big progress in Telecommunication, the information gathering of civilians killed under attack made poor progress. I create a varible to Calculate the difference between Maximum and Minimun number of civillian death estimated, but the 'gap' between the maximun and the minimum does not seem to decrease in around a decade.\n",
    "        3.Civilian casualities and children killed are Definitely weird thing under drone attact, but I noticed two attacks with more than 50 death and injures each time(if we take 25 as the Boundary, there can be dozens), one of them are with 153 civilians injured or dead, including 69 children, what happend. I checked Wikipedia \"Chenagai airstrike\", which caused 70-80 deaths(always, no accurate number). It was a successful attack, with such a sacrifice(I thought it was a wrong attack or a airstirke with mistake).\n",
    "        4.Back to coding, I tried to group by time while draw the plot graph of airstrike frequency but failed, since different obs have different value of time(not like 'sex', we have two choices only), and I can't use collapse commen like in stata, I did not finish that part, but used every observations separately to draw the plot graph.\n",
    "        5.It a good practice, with messive dataset. Cleaning it is much harder then I thought. After cleaning the data, I found one thing that people dead more than people get injured in airstrike(injured:dead=29:54), which I can not under stand yet."
   ]
  },
  {
   "cell_type": "markdown",
   "metadata": {},
   "source": [
    "Thanks for the data, I really enjoyed it, and I found my self having problem setting function to deal with data, in which I should practice more."
   ]
  }
 ],
 "metadata": {
  "kernelspec": {
   "display_name": "Python [conda env:econ]",
   "language": "python",
   "name": "conda-env-econ-py"
  },
  "language_info": {
   "codemirror_mode": {
    "name": "ipython",
    "version": 2
   },
   "file_extension": ".py",
   "mimetype": "text/x-python",
   "name": "python",
   "nbconvert_exporter": "python",
   "pygments_lexer": "ipython2",
   "version": "2.7.12"
  }
 },
 "nbformat": 4,
 "nbformat_minor": 1
}
